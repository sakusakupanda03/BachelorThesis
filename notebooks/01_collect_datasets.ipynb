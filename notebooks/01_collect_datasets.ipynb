{
  "nbformat": 4,
  "nbformat_minor": 0,
  "metadata": {
    "colab": {
      "provenance": [],
      "include_colab_link": true
    },
    "kernelspec": {
      "name": "python3",
      "display_name": "Python 3"
    },
    "language_info": {
      "name": "python"
    }
  },
  "cells": [
    {
      "cell_type": "markdown",
      "metadata": {
        "id": "view-in-github",
        "colab_type": "text"
      },
      "source": [
        "<a href=\"https://colab.research.google.com/github/sakusakupanda03/BachelorThesis/blob/main/notebooks/01_collect_datasets.ipynb\" target=\"_parent\"><img src=\"https://colab.research.google.com/assets/colab-badge.svg\" alt=\"Open In Colab\"/></a>"
      ]
    },
    {
      "cell_type": "code",
      "source": [
        "from google.colab import drive\n",
        "drive.mount('/content/drive')"
      ],
      "metadata": {
        "colab": {
          "base_uri": "https://localhost:8080/"
        },
        "id": "86tYsxYgJ2XI",
        "outputId": "627948f6-a579-4fbd-f316-9ce615d5db23"
      },
      "execution_count": null,
      "outputs": [
        {
          "output_type": "stream",
          "name": "stdout",
          "text": [
            "Mounted at /content/drive\n"
          ]
        }
      ]
    },
    {
      "cell_type": "code",
      "source": [
        "import pandas as pd\n",
        "import numpy as np\n",
        "import matplotlib.pyplot as plt\n",
        "import datetime\n",
        "import glob\n",
        "\n",
        "path = \"/content/drive/MyDrive/sotsuron/data\""
      ],
      "metadata": {
        "id": "Q-vQ8dQ4Ejgz"
      },
      "execution_count": null,
      "outputs": []
    },
    {
      "cell_type": "code",
      "execution_count": null,
      "metadata": {
        "id": "7YOagOv0EN4p"
      },
      "outputs": [],
      "source": [
        "variable_dict = {\n",
        "                 \"Market Price (USD)\": [\"Ether Daily Price (USD) Chart\", \"market-price.csv\", \"export-EtherPrice.csv\"],\n",
        "                 \"Market Capitalization (USD)\": [\"Ether Market Capitalization Chart\", \"market-cap.csv\", \"export-MarketCap.csv\"],\n",
        "                 \"Average Block Size (MB)\": [\"Ethereum Average Block Size Chart\", \"avg-block-size.csv\", \"export-BlockSize.csv\"],\n",
        "                 \"Average Confirmation Time\": [\"Average Block Time Chart\", \"avg-confirmation-time.csv\", \"export-BlockTime.csv\"],\n",
        "                 \"Total Hash Rate (TH/s)\": [\"Ethereum Network Hash Rate Chart\", \"hash-rate.csv\", \"export-NetworkHash.csv\"],\n",
        "                 \"Network Difficulty\": [\"Ethereum Network Difficulty Chart\", \"difficulty.csv\", \"export-BlockDifficulty.csv\"],\n",
        "                 \"Miners Revenue (USD)\": [\"Ethereum Daily Gas Used Chart\", \"miners-revenue.csv\", \"export-GasUsed.csv\"],\n",
        "                 \"Total Transaction Fees (BTC)\": [\"Ethereum Network Transaction Fee Chart\", \"transaction-fees.csv\", \"export-TransactionFee.csv\"],\n",
        "                 \"Fees Per Transaction (USD)\": [\"Average Transaction Fee Chart\", \"fees-usd-per-transaction.csv\", \"export-AverageDailyTransactionFee.csv\"],\n",
        "                 \"Unique Addresses Used\": [\"Active Ethereum Addresses\", \"n-unique-addresses.csv\", \"export-DailyActiveEthAddress.csv\"],\n",
        "                 \"Confirmed Transactions Per Day\": [\"Ethereum Daily Verified Contracts Chart\", \"n-transactions.csv\", \"export-verified-contracts.csv\"]}\n",
        "btc_variable_list = list(variable_dict.keys())\n",
        "eth_variable_list = [list(variable_dict.values())[i][0] for i in range(len(variable_dict))]\n",
        "btc_filename_list = [list(variable_dict.values())[i][1] for i in range(len(variable_dict))]\n",
        "eth_filename_list = [list(variable_dict.values())[i][2] for i in range(len(variable_dict))]\n",
        "\n",
        "btc_csv_list = glob.glob(path+\"/01_raw/btc/*.csv\")\n",
        "eth_csv_list = glob.glob(path+\"/01_raw/eth/*.csv\")"
      ]
    },
    {
      "cell_type": "markdown",
      "source": [
        "# Data collection"
      ],
      "metadata": {
        "id": "hFSfZX8iHpky"
      }
    },
    {
      "cell_type": "code",
      "source": [
        "# BTC\n",
        "\n",
        "# Market cap needs speacial operation due to its difference of time interval causing the inconsistency with the other variables\n",
        "btc_market_cap = pd.read_csv(\"/content/drive/MyDrive/sotsuron/data/01_raw/btc/\" +\"market-cap.csv\")\n",
        "btc_market_cap[\"Timestamp\"] = pd.to_datetime(btc_market_cap[\"Timestamp\"]).round(\"D\") + datetime.timedelta(days=1)\n",
        "btc_market_cap = btc_market_cap.groupby(\"Timestamp\").mean()\n",
        "\n",
        "# Merge all the variables\n",
        "btc_merged = btc_market_cap.copy()\n",
        "for b in btc_filename_list:\n",
        "    if b == \"market-cap.csv\":\n",
        "        continue\n",
        "    else: \n",
        "        btc_variable = pd.read_csv(\"/content/drive/MyDrive/sotsuron/data/01_raw/btc/\" + b)\n",
        "        btc_variable[\"Timestamp\"] = pd.to_datetime(btc_variable[\"Timestamp\"])\n",
        "        btc_variable = btc_variable.set_index(\"Timestamp\", drop=True)\n",
        "        btc_merged = pd.merge(btc_merged, btc_variable, left_index=True, right_index=True, how=\"outer\")\n",
        "\n",
        "btc_merged = btc_merged[: \"2022-08-11\"]\n",
        "btc_merged.to_pickle(path + \"/02_intermediate/btc.pickle\")"
      ],
      "metadata": {
        "id": "qCCD7pbGCPn9"
      },
      "execution_count": null,
      "outputs": []
    },
    {
      "cell_type": "code",
      "source": [
        "btc_merged.index"
      ],
      "metadata": {
        "colab": {
          "base_uri": "https://localhost:8080/"
        },
        "id": "F0EzkGZocGQO",
        "outputId": "9c1cbb60-5064-402d-b5d9-07b4290237b2"
      },
      "execution_count": null,
      "outputs": [
        {
          "output_type": "execute_result",
          "data": {
            "text/plain": [
              "DatetimeIndex(['2019-08-13', '2019-08-14', '2019-08-15', '2019-08-16',\n",
              "               '2019-08-17', '2019-08-18', '2019-08-19', '2019-08-20',\n",
              "               '2019-08-21', '2019-08-22',\n",
              "               ...\n",
              "               '2022-08-02', '2022-08-03', '2022-08-04', '2022-08-05',\n",
              "               '2022-08-06', '2022-08-07', '2022-08-08', '2022-08-09',\n",
              "               '2022-08-10', '2022-08-11'],\n",
              "              dtype='datetime64[ns]', name='Timestamp', length=1095, freq=None)"
            ]
          },
          "metadata": {},
          "execution_count": 10
        }
      ]
    },
    {
      "cell_type": "code",
      "source": [
        "eth_filename_list"
      ],
      "metadata": {
        "colab": {
          "base_uri": "https://localhost:8080/"
        },
        "id": "9oUUpB4EO13_",
        "outputId": "b1c0097d-629f-4f2a-fa10-531f77ead5d8"
      },
      "execution_count": null,
      "outputs": [
        {
          "output_type": "execute_result",
          "data": {
            "text/plain": [
              "['export-EtherPrice.csv',\n",
              " 'export-MarketCap.csv',\n",
              " 'export-BlockSize.csv',\n",
              " 'export-BlockTime.csv',\n",
              " 'export-NetworkHash.csv',\n",
              " 'export-BlockDifficulty.csv',\n",
              " 'export-GasUsed.csv',\n",
              " 'export-TransactionFee.csv',\n",
              " 'export-AverageDailyTransactionFee.csv',\n",
              " 'export-DailyActiveEthAddress.csv',\n",
              " 'export-verified-contracts.csv']"
            ]
          },
          "metadata": {},
          "execution_count": 13
        }
      ]
    },
    {
      "cell_type": "code",
      "source": [
        "# ETH\n",
        "eth_merged = pd.read_csv(\"/content/drive/MyDrive/sotsuron/data/01_raw/eth/\" + eth_filename_list[0])\n",
        "eth_merged[\"Date(UTC)\"] = pd.to_datetime(eth_merged[\"Date(UTC)\"])\n",
        "eth_merged = eth_merged.set_index(\"Date(UTC)\", drop=True)\n",
        "eth_merged = eth_merged.rename({\"Value\": eth_filename_list[0].strip(\".csv\")}, axis=1)\n",
        "eth_merged = eth_merged.drop(\"UnixTimeStamp\", axis=1)\n",
        "\n",
        "for e in eth_filename_list[1:]:\n",
        "    eth_variable = pd.read_csv(\"/content/drive/MyDrive/sotsuron/data/01_raw/eth/\" + e)\n",
        "    \n",
        "    eth_variable[\"Date(UTC)\"] = pd.to_datetime(eth_variable[\"Date(UTC)\"])\n",
        "    eth_variable = eth_variable.set_index(\"Date(UTC)\", drop=True)\n",
        "\n",
        "    if \"Value\" in eth_variable.columns:\n",
        "        eth_variable = eth_variable.rename({\"Value\": e.strip(\".csv\")}, axis=1)\n",
        "    if \"UnixTimeStamp\" in eth_variable.columns:\n",
        "        eth_variable = eth_variable.drop(\"UnixTimeStamp\", axis=1)\n",
        "    \n",
        "    \n",
        "    eth_merged = pd.merge(eth_merged, eth_variable, left_index=True, right_index=True, how=\"outer\")\n",
        "\n",
        "eth_merged = eth_merged.rename({\"Average Txn Fee (USD)\": \"export-AverageDailyTransactionFee\", \"Unique Address Total Count\": \"export-DailyActiveEthAddress\", \"MarketCap\": \"export-MarketCap\", \"No. of Verified Contracts\": \"export-verified-contracts\"}, axis=1)\n",
        "eth_merged = eth_merged.drop([\"Supply\", \"Price\", \"Average Txn Fee (Ether)\", \"Unique Address Receive Count\", \"Unique Address Sent Count\", \"DateTime\"], axis=1)\n",
        "eth_merged = eth_merged[btc_merged.index[0]:btc_merged.index[-1]]\n",
        "eth_merged.to_pickle(path + \"/02_intermediate/eth.pickle\")"
      ],
      "metadata": {
        "id": "_h8JcGoXBbhL"
      },
      "execution_count": null,
      "outputs": []
    }
  ]
}